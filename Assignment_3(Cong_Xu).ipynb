{
 "cells": [
  {
   "cell_type": "markdown",
   "metadata": {},
   "source": [
    "# Assignment 3\n",
    "\n",
    "The US Department of Agriculture publishes price estimates for fruits and vegetables [online](https://www.ers.usda.gov/data-products/fruit-and-vegetable-prices/fruit-and-vegetable-prices/). The most recent estimates are based on a 2013 survey of US retail stores.\n",
    "\n",
    "The estimates are provided as a collection of MS Excel files, with one file per fruit or vegetable. The `assignment3_data.zip` file contains the fruit and vegetable files in the directories `fruit` and `vegetables`, respectively."
   ]
  },
  {
   "cell_type": "markdown",
   "metadata": {},
   "source": [
    "__Exercise 1.1.__ Use pandas to extract the \"Fresh\" row(s) from the <strong style=\"color:#B0B\">fruit</strong> Excel files. Combine the data into a single data frame. Your data frame should look something like this:\n",
    "\n",
    "type       | food       | form   | price_per_lb | yield | lb_per_cup | price_per_cup\n",
    "---------- | ---------- | ------ | ------------ | ----- | ---------- | -------------\n",
    "fruit      | watermelon | Fresh1 | 0.333412     | 0.52  | 0.330693   | 0.212033\n",
    "fruit      | cantaloupe | Fresh1 | 0.535874     | 0.51  | 0.374786   | 0.3938\n",
    "vegetables | onions     | Fresh1 | 1.03811      | 0.9   | 0.35274    | 0.406868\n",
    "...        |            |        |              |       |            |\n",
    "\n",
    "\n",
    "It's okay if the rows and columns of your data frame are in a different order. These modules are especially relevant:\n",
    "\n",
    "* [`str` methods](https://docs.python.org/2/library/stdtypes.html#string-methods)\n",
    "* [`os`](https://docs.python.org/2/library/os.html)\n",
    "* [`os.path`](https://docs.python.org/2/library/os.path.html)\n",
    "* [pandas](http://pandas.pydata.org/pandas-docs/stable/): `read_excel()`, `concat()`, `.fillna()`, `.str`, plotting methods\n",
    "\n",
    "Ask questions and search the documentation/web to find the functions you need.\n"
   ]
  },
  {
   "cell_type": "code",
   "execution_count": 2,
   "metadata": {
    "collapsed": false
   },
   "outputs": [
    {
     "data": {
      "text/html": [
       "<div>\n",
       "<table border=\"1\" class=\"dataframe\">\n",
       "  <thead>\n",
       "    <tr style=\"text-align: right;\">\n",
       "      <th></th>\n",
       "      <th>type</th>\n",
       "      <th>food</th>\n",
       "      <th>form</th>\n",
       "      <th>price_per_lb</th>\n",
       "      <th>yield</th>\n",
       "      <th>lb_per_cup</th>\n",
       "      <th>price_per_cup</th>\n",
       "    </tr>\n",
       "  </thead>\n",
       "  <tbody>\n",
       "    <tr>\n",
       "      <th>1</th>\n",
       "      <td>fruit</td>\n",
       "      <td>apples</td>\n",
       "      <td>Fresh1</td>\n",
       "      <td>1.56752</td>\n",
       "      <td>0.9</td>\n",
       "      <td>0.242508</td>\n",
       "      <td>0.422373</td>\n",
       "    </tr>\n",
       "    <tr>\n",
       "      <th>1</th>\n",
       "      <td>fruit</td>\n",
       "      <td>apricots</td>\n",
       "      <td>Fresh1</td>\n",
       "      <td>3.04007</td>\n",
       "      <td>0.93</td>\n",
       "      <td>0.363763</td>\n",
       "      <td>1.1891</td>\n",
       "    </tr>\n",
       "    <tr>\n",
       "      <th>1</th>\n",
       "      <td>fruit</td>\n",
       "      <td>bananas</td>\n",
       "      <td>Fresh1</td>\n",
       "      <td>0.566983</td>\n",
       "      <td>0.64</td>\n",
       "      <td>0.330693</td>\n",
       "      <td>0.292965</td>\n",
       "    </tr>\n",
       "    <tr>\n",
       "      <th>1</th>\n",
       "      <td>fruit</td>\n",
       "      <td>blackberries</td>\n",
       "      <td>Fresh1</td>\n",
       "      <td>5.77471</td>\n",
       "      <td>0.96</td>\n",
       "      <td>0.31967</td>\n",
       "      <td>1.92292</td>\n",
       "    </tr>\n",
       "    <tr>\n",
       "      <th>1</th>\n",
       "      <td>fruit</td>\n",
       "      <td>blueberries</td>\n",
       "      <td>Fresh1</td>\n",
       "      <td>4.73462</td>\n",
       "      <td>0.95</td>\n",
       "      <td>0.31967</td>\n",
       "      <td>1.59318</td>\n",
       "    </tr>\n",
       "  </tbody>\n",
       "</table>\n",
       "</div>"
      ],
      "text/plain": [
       "    type          food     form price_per_lb yield lb_per_cup price_per_cup\n",
       "1  fruit        apples   Fresh1      1.56752   0.9   0.242508      0.422373\n",
       "1  fruit      apricots   Fresh1      3.04007  0.93   0.363763        1.1891\n",
       "1  fruit       bananas   Fresh1     0.566983  0.64   0.330693      0.292965\n",
       "1  fruit  blackberries  Fresh1       5.77471  0.96    0.31967       1.92292\n",
       "1  fruit   blueberries   Fresh1      4.73462  0.95    0.31967       1.59318"
      ]
     },
     "execution_count": 2,
     "metadata": {},
     "output_type": "execute_result"
    }
   ],
   "source": [
    "import pandas as pd\n",
    "import os\n",
    "def read_excels(position,folder):\n",
    "    '''\n",
    "    Input:  position: the root\n",
    "            folder: the name of the folder in the root\n",
    "    Output: a pandas.DataFrame\n",
    "    Get the pandas.DataFrame which includes all the rows of 'fresh' in excel files in the folder\n",
    "    '''\n",
    "    result = pd.DataFrame()\n",
    "    for root, dirs, files in os.walk(os.path.join(position,folder)):\n",
    "        for name in files:\n",
    "            new = pd.read_excel(os.path.join(position,folder,name),skiprows = [0])\n",
    "            find = ['Fresh' in str(a) for a in new['Form']]\n",
    "            new = new[find]\n",
    "            new['type'] = folder\n",
    "            new['food'] = name.split('.')[0]\n",
    "            new.rename(columns = {'Average retail price ':'price_per_lb','Preparation':'yield',\n",
    "                                  'Size of a ':'lb_per_cup','Average price':'price_per_cup','Form':'form'},inplace=True)\n",
    "            result = result.append(new)\n",
    "\n",
    "    result = result[['type','food','form','price_per_lb','yield','lb_per_cup','price_per_cup']]\n",
    "    return result\n",
    "\n",
    "fruit_fresh = read_excels(r'C:\\Users\\kevin\\study\\STA141B\\assignment_3','fruit').dropna(axis=0)\n",
    "fruit_fresh.head()"
   ]
  },
  {
   "cell_type": "markdown",
   "metadata": {},
   "source": [
    "__Exercise 1.2.__ Reuse your code from exercise 1.1 to extract the \"Fresh\" row(s) from the <strong style=\"color:#B0B\">vegetable</strong> Excel files.\n",
    "\n",
    "Does your code produce the correct prices for tomatoes? If not, why not? Do any other files have the same problem as the tomatoes file?\n",
    "\n",
    "You don't need to extract the prices for these problem files. However, make sure the prices are extracted for files like asparagus that don't have this problem."
   ]
  },
  {
   "cell_type": "code",
   "execution_count": 3,
   "metadata": {
    "collapsed": false
   },
   "outputs": [
    {
     "data": {
      "text/html": [
       "<div>\n",
       "<table border=\"1\" class=\"dataframe\">\n",
       "  <thead>\n",
       "    <tr style=\"text-align: right;\">\n",
       "      <th></th>\n",
       "      <th>type</th>\n",
       "      <th>food</th>\n",
       "      <th>form</th>\n",
       "      <th>price_per_lb</th>\n",
       "      <th>yield</th>\n",
       "      <th>lb_per_cup</th>\n",
       "      <th>price_per_cup</th>\n",
       "    </tr>\n",
       "  </thead>\n",
       "  <tbody>\n",
       "    <tr>\n",
       "      <th>1</th>\n",
       "      <td>vegetables</td>\n",
       "      <td>acorn_squash</td>\n",
       "      <td>Fresh1</td>\n",
       "      <td>1.17225</td>\n",
       "      <td>0.458554</td>\n",
       "      <td>0.451948</td>\n",
       "      <td>1.15536</td>\n",
       "    </tr>\n",
       "    <tr>\n",
       "      <th>1</th>\n",
       "      <td>vegetables</td>\n",
       "      <td>artichoke</td>\n",
       "      <td>Fresh1</td>\n",
       "      <td>2.21305</td>\n",
       "      <td>0.375309</td>\n",
       "      <td>0.385809</td>\n",
       "      <td>2.27497</td>\n",
       "    </tr>\n",
       "    <tr>\n",
       "      <th>1</th>\n",
       "      <td>vegetables</td>\n",
       "      <td>asparagus</td>\n",
       "      <td>Fresh1</td>\n",
       "      <td>3.21349</td>\n",
       "      <td>0.493835</td>\n",
       "      <td>0.396832</td>\n",
       "      <td>2.58227</td>\n",
       "    </tr>\n",
       "    <tr>\n",
       "      <th>1</th>\n",
       "      <td>vegetables</td>\n",
       "      <td>avocados</td>\n",
       "      <td>Fresh1</td>\n",
       "      <td>2.23587</td>\n",
       "      <td>0.740753</td>\n",
       "      <td>0.31967</td>\n",
       "      <td>0.964886</td>\n",
       "    </tr>\n",
       "    <tr>\n",
       "      <th>1</th>\n",
       "      <td>vegetables</td>\n",
       "      <td>broccoli</td>\n",
       "      <td>Fresh</td>\n",
       "      <td></td>\n",
       "      <td></td>\n",
       "      <td></td>\n",
       "      <td>NaN</td>\n",
       "    </tr>\n",
       "  </tbody>\n",
       "</table>\n",
       "</div>"
      ],
      "text/plain": [
       "         type          food    form price_per_lb     yield lb_per_cup  \\\n",
       "1  vegetables  acorn_squash  Fresh1      1.17225  0.458554   0.451948   \n",
       "1  vegetables     artichoke  Fresh1      2.21305  0.375309   0.385809   \n",
       "1  vegetables     asparagus  Fresh1      3.21349  0.493835   0.396832   \n",
       "1  vegetables      avocados  Fresh1      2.23587  0.740753    0.31967   \n",
       "1  vegetables      broccoli  Fresh                                      \n",
       "\n",
       "  price_per_cup  \n",
       "1       1.15536  \n",
       "1       2.27497  \n",
       "1       2.58227  \n",
       "1      0.964886  \n",
       "1           NaN  "
      ]
     },
     "execution_count": 3,
     "metadata": {},
     "output_type": "execute_result"
    }
   ],
   "source": [
    "vegetable_fresh = read_excels(r'C:\\Users\\kevin\\study\\STA141B\\assignment_3','vegetables')\n",
    "vegetable_fresh.head()"
   ]
  },
  {
   "cell_type": "code",
   "execution_count": 4,
   "metadata": {
    "collapsed": false
   },
   "outputs": [
    {
     "data": {
      "text/html": [
       "<div>\n",
       "<table border=\"1\" class=\"dataframe\">\n",
       "  <thead>\n",
       "    <tr style=\"text-align: right;\">\n",
       "      <th></th>\n",
       "      <th>Form</th>\n",
       "      <th>Average retail price</th>\n",
       "      <th>Unnamed: 2</th>\n",
       "      <th>Preparation</th>\n",
       "      <th>Size of a</th>\n",
       "      <th>Unnamed: 5</th>\n",
       "      <th>Average price</th>\n",
       "    </tr>\n",
       "  </thead>\n",
       "  <tbody>\n",
       "    <tr>\n",
       "      <th>0</th>\n",
       "      <td>NaN</td>\n",
       "      <td>NaN</td>\n",
       "      <td>NaN</td>\n",
       "      <td>yield factor</td>\n",
       "      <td>cup equivalent</td>\n",
       "      <td>NaN</td>\n",
       "      <td>per cup equivalent</td>\n",
       "    </tr>\n",
       "    <tr>\n",
       "      <th>1</th>\n",
       "      <td>Fresh</td>\n",
       "      <td>NaN</td>\n",
       "      <td>NaN</td>\n",
       "      <td>NaN</td>\n",
       "      <td>NaN</td>\n",
       "      <td>NaN</td>\n",
       "      <td>NaN</td>\n",
       "    </tr>\n",
       "    <tr>\n",
       "      <th>2</th>\n",
       "      <td>Grape and cherry1,2</td>\n",
       "      <td>3.288960</td>\n",
       "      <td>per pound</td>\n",
       "      <td>0.91</td>\n",
       "      <td>0.374786</td>\n",
       "      <td>pounds</td>\n",
       "      <td>1.35457</td>\n",
       "    </tr>\n",
       "    <tr>\n",
       "      <th>3</th>\n",
       "      <td>Roma1,3</td>\n",
       "      <td>1.243417</td>\n",
       "      <td>per pound</td>\n",
       "      <td>0.91</td>\n",
       "      <td>0.374786</td>\n",
       "      <td>pounds</td>\n",
       "      <td>0.512105</td>\n",
       "    </tr>\n",
       "    <tr>\n",
       "      <th>4</th>\n",
       "      <td>Beefsteak1,4</td>\n",
       "      <td>3.159212</td>\n",
       "      <td>per pound</td>\n",
       "      <td>0.91</td>\n",
       "      <td>0.374786</td>\n",
       "      <td>pounds</td>\n",
       "      <td>1.30113</td>\n",
       "    </tr>\n",
       "    <tr>\n",
       "      <th>5</th>\n",
       "      <td>Canned5</td>\n",
       "      <td>0.924836</td>\n",
       "      <td>per pound</td>\n",
       "      <td>1</td>\n",
       "      <td>0.540133</td>\n",
       "      <td>pounds</td>\n",
       "      <td>0.499534</td>\n",
       "    </tr>\n",
       "    <tr>\n",
       "      <th>6</th>\n",
       "      <td>1Includes greenhouse, hydroponic, and field-gr...</td>\n",
       "      <td>NaN</td>\n",
       "      <td>NaN</td>\n",
       "      <td>NaN</td>\n",
       "      <td>NaN</td>\n",
       "      <td>NaN</td>\n",
       "      <td>NaN</td>\n",
       "    </tr>\n",
       "    <tr>\n",
       "      <th>7</th>\n",
       "      <td>NaN</td>\n",
       "      <td>NaN</td>\n",
       "      <td>NaN</td>\n",
       "      <td>NaN</td>\n",
       "      <td>NaN</td>\n",
       "      <td>NaN</td>\n",
       "      <td>NaN</td>\n",
       "    </tr>\n",
       "    <tr>\n",
       "      <th>8</th>\n",
       "      <td>2Includes cherry, grape, teardrop, pear, and c...</td>\n",
       "      <td>NaN</td>\n",
       "      <td>NaN</td>\n",
       "      <td>NaN</td>\n",
       "      <td>NaN</td>\n",
       "      <td>NaN</td>\n",
       "      <td>NaN</td>\n",
       "    </tr>\n",
       "    <tr>\n",
       "      <th>9</th>\n",
       "      <td>NaN</td>\n",
       "      <td>NaN</td>\n",
       "      <td>NaN</td>\n",
       "      <td>NaN</td>\n",
       "      <td>NaN</td>\n",
       "      <td>NaN</td>\n",
       "      <td>NaN</td>\n",
       "    </tr>\n",
       "    <tr>\n",
       "      <th>10</th>\n",
       "      <td>3Includes roma, plum, Italian, and saladette t...</td>\n",
       "      <td>NaN</td>\n",
       "      <td>NaN</td>\n",
       "      <td>NaN</td>\n",
       "      <td>NaN</td>\n",
       "      <td>NaN</td>\n",
       "      <td>NaN</td>\n",
       "    </tr>\n",
       "    <tr>\n",
       "      <th>11</th>\n",
       "      <td>NaN</td>\n",
       "      <td>NaN</td>\n",
       "      <td>NaN</td>\n",
       "      <td>NaN</td>\n",
       "      <td>NaN</td>\n",
       "      <td>NaN</td>\n",
       "      <td>NaN</td>\n",
       "    </tr>\n",
       "    <tr>\n",
       "      <th>12</th>\n",
       "      <td>4Includes only beefsteak tomatoes.</td>\n",
       "      <td>NaN</td>\n",
       "      <td>NaN</td>\n",
       "      <td>NaN</td>\n",
       "      <td>NaN</td>\n",
       "      <td>NaN</td>\n",
       "      <td>NaN</td>\n",
       "    </tr>\n",
       "    <tr>\n",
       "      <th>13</th>\n",
       "      <td>NaN</td>\n",
       "      <td>NaN</td>\n",
       "      <td>NaN</td>\n",
       "      <td>NaN</td>\n",
       "      <td>NaN</td>\n",
       "      <td>NaN</td>\n",
       "      <td>NaN</td>\n",
       "    </tr>\n",
       "    <tr>\n",
       "      <th>14</th>\n",
       "      <td>5Includes diced tomatoes packed in juice; excl...</td>\n",
       "      <td>NaN</td>\n",
       "      <td>NaN</td>\n",
       "      <td>NaN</td>\n",
       "      <td>NaN</td>\n",
       "      <td>NaN</td>\n",
       "      <td>NaN</td>\n",
       "    </tr>\n",
       "    <tr>\n",
       "      <th>15</th>\n",
       "      <td>NaN</td>\n",
       "      <td>NaN</td>\n",
       "      <td>NaN</td>\n",
       "      <td>NaN</td>\n",
       "      <td>NaN</td>\n",
       "      <td>NaN</td>\n",
       "      <td>NaN</td>\n",
       "    </tr>\n",
       "    <tr>\n",
       "      <th>16</th>\n",
       "      <td>Source: Calculated by ERS, USDA from 2013 IRI ...</td>\n",
       "      <td>NaN</td>\n",
       "      <td>NaN</td>\n",
       "      <td>NaN</td>\n",
       "      <td>NaN</td>\n",
       "      <td>NaN</td>\n",
       "      <td>NaN</td>\n",
       "    </tr>\n",
       "  </tbody>\n",
       "</table>\n",
       "</div>"
      ],
      "text/plain": [
       "                                                 Form  Average retail price   \\\n",
       "0                                                 NaN                    NaN   \n",
       "1                                               Fresh                    NaN   \n",
       "2                                 Grape and cherry1,2               3.288960   \n",
       "3                                             Roma1,3               1.243417   \n",
       "4                                        Beefsteak1,4               3.159212   \n",
       "5                                             Canned5               0.924836   \n",
       "6   1Includes greenhouse, hydroponic, and field-gr...                    NaN   \n",
       "7                                                 NaN                    NaN   \n",
       "8   2Includes cherry, grape, teardrop, pear, and c...                    NaN   \n",
       "9                                                 NaN                    NaN   \n",
       "10  3Includes roma, plum, Italian, and saladette t...                    NaN   \n",
       "11                                                NaN                    NaN   \n",
       "12               4Includes only beefsteak tomatoes.                      NaN   \n",
       "13                                                NaN                    NaN   \n",
       "14  5Includes diced tomatoes packed in juice; excl...                    NaN   \n",
       "15                                                NaN                    NaN   \n",
       "16  Source: Calculated by ERS, USDA from 2013 IRI ...                    NaN   \n",
       "\n",
       "    Unnamed: 2   Preparation       Size of a  Unnamed: 5       Average price  \n",
       "0          NaN  yield factor  cup equivalent         NaN  per cup equivalent  \n",
       "1          NaN           NaN              NaN        NaN                 NaN  \n",
       "2    per pound          0.91         0.374786     pounds             1.35457  \n",
       "3    per pound          0.91         0.374786     pounds            0.512105  \n",
       "4    per pound          0.91         0.374786     pounds             1.30113  \n",
       "5    per pound             1         0.540133     pounds            0.499534  \n",
       "6          NaN           NaN              NaN        NaN                 NaN  \n",
       "7          NaN           NaN              NaN        NaN                 NaN  \n",
       "8          NaN           NaN              NaN        NaN                 NaN  \n",
       "9          NaN           NaN              NaN        NaN                 NaN  \n",
       "10         NaN           NaN              NaN        NaN                 NaN  \n",
       "11         NaN           NaN              NaN        NaN                 NaN  \n",
       "12         NaN           NaN              NaN        NaN                 NaN  \n",
       "13         NaN           NaN              NaN        NaN                 NaN  \n",
       "14         NaN           NaN              NaN        NaN                 NaN  \n",
       "15         NaN           NaN              NaN        NaN                 NaN  \n",
       "16         NaN           NaN              NaN        NaN                 NaN  "
      ]
     },
     "execution_count": 4,
     "metadata": {},
     "output_type": "execute_result"
    }
   ],
   "source": [
    "tomatoes = pd.read_excel(r'C:\\Users\\kevin\\study\\STA141B\\assignment_3\\vegetables\\tomatoes.xlsx',skiprows = [0])\n",
    "tomatoes"
   ]
  },
  {
   "cell_type": "markdown",
   "metadata": {},
   "source": [
    "<p>The price for tomatoes is NaN. That is because the structure of that excel file is different from the others. 3 kinds of fresh tomatoes are listed there.</p>"
   ]
  },
  {
   "cell_type": "code",
   "execution_count": 5,
   "metadata": {
    "collapsed": false
   },
   "outputs": [
    {
     "data": {
      "text/html": [
       "<div>\n",
       "<table border=\"1\" class=\"dataframe\">\n",
       "  <thead>\n",
       "    <tr style=\"text-align: right;\">\n",
       "      <th></th>\n",
       "      <th>type</th>\n",
       "      <th>food</th>\n",
       "      <th>form</th>\n",
       "      <th>price_per_lb</th>\n",
       "      <th>yield</th>\n",
       "      <th>lb_per_cup</th>\n",
       "      <th>price_per_cup</th>\n",
       "    </tr>\n",
       "  </thead>\n",
       "  <tbody>\n",
       "    <tr>\n",
       "      <th>1</th>\n",
       "      <td>vegetables</td>\n",
       "      <td>carrots</td>\n",
       "      <td>Fresh</td>\n",
       "      <td>NaN</td>\n",
       "      <td>NaN</td>\n",
       "      <td>NaN</td>\n",
       "      <td>NaN</td>\n",
       "    </tr>\n",
       "    <tr>\n",
       "      <th>1</th>\n",
       "      <td>vegetables</td>\n",
       "      <td>celery</td>\n",
       "      <td>Fresh1</td>\n",
       "      <td>NaN</td>\n",
       "      <td>NaN</td>\n",
       "      <td>NaN</td>\n",
       "      <td>NaN</td>\n",
       "    </tr>\n",
       "    <tr>\n",
       "      <th>1</th>\n",
       "      <td>vegetables</td>\n",
       "      <td>mushrooms</td>\n",
       "      <td>Fresh1</td>\n",
       "      <td>NaN</td>\n",
       "      <td>NaN</td>\n",
       "      <td>NaN</td>\n",
       "      <td>NaN</td>\n",
       "    </tr>\n",
       "    <tr>\n",
       "      <th>1</th>\n",
       "      <td>vegetables</td>\n",
       "      <td>spinach</td>\n",
       "      <td>Fresh1</td>\n",
       "      <td>NaN</td>\n",
       "      <td>NaN</td>\n",
       "      <td>NaN</td>\n",
       "      <td>NaN</td>\n",
       "    </tr>\n",
       "    <tr>\n",
       "      <th>1</th>\n",
       "      <td>vegetables</td>\n",
       "      <td>tomatoes</td>\n",
       "      <td>Fresh</td>\n",
       "      <td>NaN</td>\n",
       "      <td>NaN</td>\n",
       "      <td>NaN</td>\n",
       "      <td>NaN</td>\n",
       "    </tr>\n",
       "    <tr>\n",
       "      <th>1</th>\n",
       "      <td>vegetables</td>\n",
       "      <td>broccoli</td>\n",
       "      <td>Fresh</td>\n",
       "      <td></td>\n",
       "      <td></td>\n",
       "      <td></td>\n",
       "      <td>NaN</td>\n",
       "    </tr>\n",
       "    <tr>\n",
       "      <th>1</th>\n",
       "      <td>vegetables</td>\n",
       "      <td>cauliflower</td>\n",
       "      <td>Fresh1</td>\n",
       "      <td></td>\n",
       "      <td></td>\n",
       "      <td></td>\n",
       "      <td>NaN</td>\n",
       "    </tr>\n",
       "    <tr>\n",
       "      <th>1</th>\n",
       "      <td>vegetables</td>\n",
       "      <td>lettuce_romaine</td>\n",
       "      <td>Fresh1</td>\n",
       "      <td></td>\n",
       "      <td>NaN</td>\n",
       "      <td></td>\n",
       "      <td>NaN</td>\n",
       "    </tr>\n",
       "  </tbody>\n",
       "</table>\n",
       "</div>"
      ],
      "text/plain": [
       "         type             food    form price_per_lb yield lb_per_cup  \\\n",
       "1  vegetables          carrots   Fresh          NaN   NaN        NaN   \n",
       "1  vegetables           celery  Fresh1          NaN   NaN        NaN   \n",
       "1  vegetables        mushrooms  Fresh1          NaN   NaN        NaN   \n",
       "1  vegetables          spinach  Fresh1          NaN   NaN        NaN   \n",
       "1  vegetables         tomatoes   Fresh          NaN   NaN        NaN   \n",
       "1  vegetables         broccoli  Fresh                                  \n",
       "1  vegetables      cauliflower  Fresh1                                 \n",
       "1  vegetables  lettuce_romaine  Fresh1                NaN              \n",
       "\n",
       "  price_per_cup  \n",
       "1           NaN  \n",
       "1           NaN  \n",
       "1           NaN  \n",
       "1           NaN  \n",
       "1           NaN  \n",
       "1           NaN  \n",
       "1           NaN  \n",
       "1           NaN  "
      ]
     },
     "execution_count": 5,
     "metadata": {},
     "output_type": "execute_result"
    }
   ],
   "source": [
    "vegetable_fresh[vegetable_fresh['price_per_lb'].isnull()].append(vegetable_fresh[vegetable_fresh['price_per_lb']==' '])"
   ]
  },
  {
   "cell_type": "markdown",
   "metadata": {},
   "source": [
    "<p>Carrots, celery, muchrooms, spinach, broccoli, cauliflower and lettuce_romaine have the same problem.</p>"
   ]
  },
  {
   "cell_type": "markdown",
   "metadata": {},
   "source": [
    "__Exercise 1.3.__ Remove rows without a price from the vegetable data frame and then combine the fruit and vegetable data frames. Make sure all columns of numbers are numeric (not strings)."
   ]
  },
  {
   "cell_type": "code",
   "execution_count": 6,
   "metadata": {
    "collapsed": false
   },
   "outputs": [
    {
     "data": {
      "text/plain": [
       "type              object\n",
       "food              object\n",
       "form              object\n",
       "price_per_lb     float64\n",
       "yield            float64\n",
       "lb_per_cup       float64\n",
       "price_per_cup    float64\n",
       "dtype: object"
      ]
     },
     "execution_count": 6,
     "metadata": {},
     "output_type": "execute_result"
    }
   ],
   "source": [
    "vegetable_fresh = vegetable_fresh.dropna(axis=0)\n",
    "fresh = fruit_fresh.append(vegetable_fresh)\n",
    "\n",
    "def turn_to_float(a):\n",
    "    '''\n",
    "    Input: a pandas.DataFrame\n",
    "    Output: a pandas.DataFrame\n",
    "    Change all columns of numbers from object to float\n",
    "    '''\n",
    "    try:\n",
    "        a1 = float(a)\n",
    "        return a1\n",
    "    except:\n",
    "        return a\n",
    "fresh= fresh.apply(turn_to_float)\n",
    "fresh.dtypes"
   ]
  },
  {
   "cell_type": "markdown",
   "metadata": {},
   "source": [
    "__Exercise 1.4.__ Discuss the questions below (a paragraph each is sufficient). Use plots to support your ideas.\n",
    "\n",
    "* What kinds of fruits are the most expensive (per pound)? What kinds are the least expensive?\n",
    "* How do the price distributions compare for fruit and vegetables?\n",
    "* Which foods are the best value for the price?\n",
    "* What's something surprising about this data set?\n",
    "* Which foods do you expect to provide the best combination of price, yield, and nutrition? A future assignment may combine this data set with another so you can check your hypothesis."
   ]
  },
  {
   "cell_type": "markdown",
   "metadata": {},
   "source": [
    "<h5>1. What kinds of fruits are the most expensive (per pound)? What kinds are the least expensive?</h5>"
   ]
  },
  {
   "cell_type": "code",
   "execution_count": 7,
   "metadata": {
    "collapsed": false
   },
   "outputs": [
    {
     "data": {
      "text/html": [
       "<div>\n",
       "<table border=\"1\" class=\"dataframe\">\n",
       "  <thead>\n",
       "    <tr style=\"text-align: right;\">\n",
       "      <th></th>\n",
       "      <th>type</th>\n",
       "      <th>food</th>\n",
       "      <th>form</th>\n",
       "      <th>price_per_lb</th>\n",
       "      <th>yield</th>\n",
       "      <th>lb_per_cup</th>\n",
       "      <th>price_per_cup</th>\n",
       "    </tr>\n",
       "  </thead>\n",
       "  <tbody>\n",
       "    <tr>\n",
       "      <th>1</th>\n",
       "      <td>fruit</td>\n",
       "      <td>raspberries</td>\n",
       "      <td>Fresh1</td>\n",
       "      <td>6.97581</td>\n",
       "      <td>0.96</td>\n",
       "      <td>0.31967</td>\n",
       "      <td>2.32287</td>\n",
       "    </tr>\n",
       "  </tbody>\n",
       "</table>\n",
       "</div>"
      ],
      "text/plain": [
       "    type         food    form price_per_lb yield lb_per_cup price_per_cup\n",
       "1  fruit  raspberries  Fresh1      6.97581  0.96    0.31967       2.32287"
      ]
     },
     "execution_count": 7,
     "metadata": {},
     "output_type": "execute_result"
    }
   ],
   "source": [
    "fruit_fresh[fruit_fresh['price_per_lb'] == max(fruit_fresh['price_per_lb'])]"
   ]
  },
  {
   "cell_type": "code",
   "execution_count": 8,
   "metadata": {
    "collapsed": false
   },
   "outputs": [
    {
     "data": {
      "text/html": [
       "<div>\n",
       "<table border=\"1\" class=\"dataframe\">\n",
       "  <thead>\n",
       "    <tr style=\"text-align: right;\">\n",
       "      <th></th>\n",
       "      <th>type</th>\n",
       "      <th>food</th>\n",
       "      <th>form</th>\n",
       "      <th>price_per_lb</th>\n",
       "      <th>yield</th>\n",
       "      <th>lb_per_cup</th>\n",
       "      <th>price_per_cup</th>\n",
       "    </tr>\n",
       "  </thead>\n",
       "  <tbody>\n",
       "    <tr>\n",
       "      <th>1</th>\n",
       "      <td>fruit</td>\n",
       "      <td>watermelon</td>\n",
       "      <td>Fresh1</td>\n",
       "      <td>0.333412</td>\n",
       "      <td>0.52</td>\n",
       "      <td>0.330693</td>\n",
       "      <td>0.212033</td>\n",
       "    </tr>\n",
       "  </tbody>\n",
       "</table>\n",
       "</div>"
      ],
      "text/plain": [
       "    type        food    form price_per_lb yield lb_per_cup price_per_cup\n",
       "1  fruit  watermelon  Fresh1     0.333412  0.52   0.330693      0.212033"
      ]
     },
     "execution_count": 8,
     "metadata": {},
     "output_type": "execute_result"
    }
   ],
   "source": [
    "fruit_fresh[fruit_fresh['price_per_lb'] == min(fruit_fresh['price_per_lb'])]"
   ]
  },
  {
   "cell_type": "markdown",
   "metadata": {
    "collapsed": true
   },
   "source": [
    "<p>Raspberry is the most expensive kind of fruit, while watermelon is least expensive.</p>"
   ]
  },
  {
   "cell_type": "markdown",
   "metadata": {},
   "source": [
    "<h5>2. How do the price distributions compare for fruit and vegetables?</h5>"
   ]
  },
  {
   "cell_type": "code",
   "execution_count": 9,
   "metadata": {
    "collapsed": false
   },
   "outputs": [
    {
     "data": {
      "image/png": "[encoded data removed]",
      "text/plain": [
       "<matplotlib.figure.Figure at 0x84e0b38>"
      ]
     },
     "metadata": {},
     "output_type": "display_data"
    }
   ],
   "source": [
    "import matplotlib\n",
    "import matplotlib.pyplot as plt\n",
    "matplotlib.style.use('ggplot')\n",
    "plt.hist(fruit_fresh['price_per_lb'], bins = 25, alpha=0.4, label = 'fruits')\n",
    "plt.hist(vegetable_fresh['price_per_lb'], bins = 10, alpha=0.4, label = 'vegetables')\n",
    "plt.title('Histogram of Price (per pound)')\n",
    "plt.legend()\n",
    "plt.show()"
   ]
  },
  {
   "cell_type": "markdown",
   "metadata": {},
   "source": [
    "<p>We can find that the prices of fruits are more dispersed, with some extreme high values. However, the prices of vegetables are within a small range.</p>"
   ]
  },
  {
   "cell_type": "markdown",
   "metadata": {},
   "source": [
    "<h5>3. Which foods are the best value for the price?</h5>"
   ]
  },
  {
   "cell_type": "code",
   "execution_count": 10,
   "metadata": {
    "collapsed": false
   },
   "outputs": [
    {
     "data": {
      "text/html": [
       "<div>\n",
       "<table border=\"1\" class=\"dataframe\">\n",
       "  <thead>\n",
       "    <tr style=\"text-align: right;\">\n",
       "      <th></th>\n",
       "      <th>type</th>\n",
       "      <th>food</th>\n",
       "      <th>form</th>\n",
       "      <th>price_per_lb</th>\n",
       "      <th>yield</th>\n",
       "      <th>lb_per_cup</th>\n",
       "      <th>price_per_cup</th>\n",
       "    </tr>\n",
       "  </thead>\n",
       "  <tbody>\n",
       "    <tr>\n",
       "      <th>1</th>\n",
       "      <td>vegetables</td>\n",
       "      <td>potatoes</td>\n",
       "      <td>Fresh1</td>\n",
       "      <td>0.56432</td>\n",
       "      <td>0.811301</td>\n",
       "      <td>0.264555</td>\n",
       "      <td>0.184017</td>\n",
       "    </tr>\n",
       "  </tbody>\n",
       "</table>\n",
       "</div>"
      ],
      "text/plain": [
       "         type      food    form  price_per_lb     yield  lb_per_cup  \\\n",
       "1  vegetables  potatoes  Fresh1       0.56432  0.811301    0.264555   \n",
       "\n",
       "   price_per_cup  \n",
       "1       0.184017  "
      ]
     },
     "execution_count": 10,
     "metadata": {},
     "output_type": "execute_result"
    }
   ],
   "source": [
    "fresh[fresh['price_per_cup'] == min(fresh['price_per_cup'])]"
   ]
  },
  {
   "cell_type": "markdown",
   "metadata": {},
   "source": [
    "<p>As a cup is the unit of measurement for Federal fruit and vegetable consumption recommendations (<a herf=\"https://www.ers.usda.gov/data-products/fruit-and-vegetable-prices/fruit-and-vegetable-prices/\">link</a>),  the food with the least price per cup should be the one of the best value for the price. Among all kinds of foods, potatoes have the lowest price per cup.</p>"
   ]
  },
  {
   "cell_type": "markdown",
   "metadata": {},
   "source": [
    "<h5>4. What's something surprising about this data set?</h5>"
   ]
  },
  {
   "cell_type": "code",
   "execution_count": 11,
   "metadata": {
    "collapsed": false
   },
   "outputs": [
    {
     "data": {
      "text/html": [
       "<div>\n",
       "<table border=\"1\" class=\"dataframe\">\n",
       "  <thead>\n",
       "    <tr style=\"text-align: right;\">\n",
       "      <th></th>\n",
       "      <th>type</th>\n",
       "      <th>food</th>\n",
       "      <th>form</th>\n",
       "      <th>price_per_lb</th>\n",
       "      <th>yield</th>\n",
       "      <th>lb_per_cup</th>\n",
       "      <th>price_per_cup</th>\n",
       "    </tr>\n",
       "  </thead>\n",
       "  <tbody>\n",
       "    <tr>\n",
       "      <th>1</th>\n",
       "      <td>vegetables</td>\n",
       "      <td>cabbage</td>\n",
       "      <td>Fresh green cabbage1</td>\n",
       "      <td>0.579208</td>\n",
       "      <td>0.778797</td>\n",
       "      <td>0.330693</td>\n",
       "      <td>0.245944</td>\n",
       "    </tr>\n",
       "    <tr>\n",
       "      <th>2</th>\n",
       "      <td>vegetables</td>\n",
       "      <td>cabbage</td>\n",
       "      <td>Fresh red cabbage1</td>\n",
       "      <td>1.056450</td>\n",
       "      <td>0.779107</td>\n",
       "      <td>0.330693</td>\n",
       "      <td>0.448412</td>\n",
       "    </tr>\n",
       "  </tbody>\n",
       "</table>\n",
       "</div>"
      ],
      "text/plain": [
       "         type     food                  form  price_per_lb     yield  \\\n",
       "1  vegetables  cabbage  Fresh green cabbage1      0.579208  0.778797   \n",
       "2  vegetables  cabbage    Fresh red cabbage1      1.056450  0.779107   \n",
       "\n",
       "   lb_per_cup  price_per_cup  \n",
       "1    0.330693       0.245944  \n",
       "2    0.330693       0.448412  "
      ]
     },
     "execution_count": 11,
     "metadata": {},
     "output_type": "execute_result"
    }
   ],
   "source": [
    "fresh[fresh['food']=='cabbage']"
   ]
  },
  {
   "cell_type": "markdown",
   "metadata": {},
   "source": [
    "<p>There are two kinds of fresh cabbage in the market.</p>"
   ]
  },
  {
   "cell_type": "markdown",
   "metadata": {},
   "source": [
    "<h5>5. Which foods do you expect to provide the best combination of price, yield, and nutrition? A future assignment may combine this data set with another so you can check your hypothesis.</h5>"
   ]
  },
  {
   "cell_type": "markdown",
   "metadata": {},
   "source": [
    "<p> We want a kind of food with yield as high as possible, and with price per cup as low as possible.</p>"
   ]
  },
  {
   "cell_type": "code",
   "execution_count": 12,
   "metadata": {
    "collapsed": false
   },
   "outputs": [
    {
     "name": "stdout",
     "output_type": "stream",
     "text": [
      "0.375308641975 1.16\n"
     ]
    }
   ],
   "source": [
    "print min(fresh['yield']),max(fresh['yield'])"
   ]
  },
  {
   "cell_type": "code",
   "execution_count": 13,
   "metadata": {
    "collapsed": false
   },
   "outputs": [
    {
     "name": "stdout",
     "output_type": "stream",
     "text": [
      "0.184017330629 2.58227203905\n"
     ]
    }
   ],
   "source": [
    "print min(fresh['price_per_cup']),max(fresh['price_per_cup'])"
   ]
  },
  {
   "cell_type": "code",
   "execution_count": 14,
   "metadata": {
    "collapsed": false
   },
   "outputs": [],
   "source": [
    "fresh['standardized_yield'] = (fresh['yield'] - min(fresh['yield']))/(max(fresh['yield']) - min(fresh['yield']))\n",
    "fresh['standardized_price_per_cup'] = (fresh['price_per_cup'] - min(fresh['price_per_cup']))/(max(fresh['price_per_cup']) - min(fresh['price_per_cup']))\n",
    "fresh['index'] = ((fresh['standardized_yield']**2 + (1-fresh['standardized_price_per_cup'])**2)/2)**0.5"
   ]
  },
  {
   "cell_type": "markdown",
   "metadata": {},
   "source": [
    "<p>I define an index in order to take yield and price per cup together into consideration. First I rescale these 2 values in to range of between 0 and 1, then</p>\n",
    "$$index = \\sqrt{\\frac{(standardied\\_yield^{2} + (1 - standardied\\_price\\_per\\_cup)^{2}}{2} } $$\n",
    "<p>The index in between 0 and 1. The larger the index, the better the food provides the combination.</p>"
   ]
  },
  {
   "cell_type": "code",
   "execution_count": 15,
   "metadata": {
    "collapsed": false
   },
   "outputs": [
    {
     "data": {
      "text/html": [
       "<div>\n",
       "<table border=\"1\" class=\"dataframe\">\n",
       "  <thead>\n",
       "    <tr style=\"text-align: right;\">\n",
       "      <th></th>\n",
       "      <th>type</th>\n",
       "      <th>food</th>\n",
       "      <th>form</th>\n",
       "      <th>price_per_lb</th>\n",
       "      <th>yield</th>\n",
       "      <th>lb_per_cup</th>\n",
       "      <th>price_per_cup</th>\n",
       "      <th>standardized_yield</th>\n",
       "      <th>standardized_price_per_cup</th>\n",
       "      <th>index</th>\n",
       "    </tr>\n",
       "  </thead>\n",
       "  <tbody>\n",
       "    <tr>\n",
       "      <th>1</th>\n",
       "      <td>vegetables</td>\n",
       "      <td>collard_greens</td>\n",
       "      <td>Fresh1</td>\n",
       "      <td>2.630838</td>\n",
       "      <td>1.160000</td>\n",
       "      <td>0.286601</td>\n",
       "      <td>0.650001</td>\n",
       "      <td>1.000000</td>\n",
       "      <td>0.194301</td>\n",
       "      <td>0.908061</td>\n",
       "    </tr>\n",
       "    <tr>\n",
       "      <th>1</th>\n",
       "      <td>vegetables</td>\n",
       "      <td>cucumbers</td>\n",
       "      <td>Fresh, consumed with peel1</td>\n",
       "      <td>1.295931</td>\n",
       "      <td>0.970000</td>\n",
       "      <td>0.264555</td>\n",
       "      <td>0.353448</td>\n",
       "      <td>0.757867</td>\n",
       "      <td>0.070648</td>\n",
       "      <td>0.847956</td>\n",
       "    </tr>\n",
       "    <tr>\n",
       "      <th>1</th>\n",
       "      <td>vegetables</td>\n",
       "      <td>lettuce_iceberg</td>\n",
       "      <td>Fresh1</td>\n",
       "      <td>1.213039</td>\n",
       "      <td>0.950000</td>\n",
       "      <td>0.242508</td>\n",
       "      <td>0.309655</td>\n",
       "      <td>0.732379</td>\n",
       "      <td>0.052387</td>\n",
       "      <td>0.846862</td>\n",
       "    </tr>\n",
       "    <tr>\n",
       "      <th>1</th>\n",
       "      <td>vegetables</td>\n",
       "      <td>kale</td>\n",
       "      <td>Fresh1</td>\n",
       "      <td>2.807302</td>\n",
       "      <td>1.050000</td>\n",
       "      <td>0.286601</td>\n",
       "      <td>0.766262</td>\n",
       "      <td>0.859817</td>\n",
       "      <td>0.242779</td>\n",
       "      <td>0.810145</td>\n",
       "    </tr>\n",
       "    <tr>\n",
       "      <th>1</th>\n",
       "      <td>vegetables</td>\n",
       "      <td>potatoes</td>\n",
       "      <td>Fresh1</td>\n",
       "      <td>0.564320</td>\n",
       "      <td>0.811301</td>\n",
       "      <td>0.264555</td>\n",
       "      <td>0.184017</td>\n",
       "      <td>0.555623</td>\n",
       "      <td>0.000000</td>\n",
       "      <td>0.808924</td>\n",
       "    </tr>\n",
       "  </tbody>\n",
       "</table>\n",
       "</div>"
      ],
      "text/plain": [
       "         type             food                        form  price_per_lb  \\\n",
       "1  vegetables   collard_greens                      Fresh1      2.630838   \n",
       "1  vegetables        cucumbers  Fresh, consumed with peel1      1.295931   \n",
       "1  vegetables  lettuce_iceberg                      Fresh1      1.213039   \n",
       "1  vegetables             kale                      Fresh1      2.807302   \n",
       "1  vegetables         potatoes                      Fresh1      0.564320   \n",
       "\n",
       "      yield  lb_per_cup  price_per_cup  standardized_yield  \\\n",
       "1  1.160000    0.286601       0.650001            1.000000   \n",
       "1  0.970000    0.264555       0.353448            0.757867   \n",
       "1  0.950000    0.242508       0.309655            0.732379   \n",
       "1  1.050000    0.286601       0.766262            0.859817   \n",
       "1  0.811301    0.264555       0.184017            0.555623   \n",
       "\n",
       "   standardized_price_per_cup     index  \n",
       "1                    0.194301  0.908061  \n",
       "1                    0.070648  0.847956  \n",
       "1                    0.052387  0.846862  \n",
       "1                    0.242779  0.810145  \n",
       "1                    0.000000  0.808924  "
      ]
     },
     "execution_count": 15,
     "metadata": {},
     "output_type": "execute_result"
    }
   ],
   "source": [
    "result = fresh.sort_values(by = ['index'], axis = 0, ascending = False)\n",
    "result.head()"
   ]
  },
  {
   "cell_type": "markdown",
   "metadata": {},
   "source": [
    "<p>Collard_greens, cucumbers and lettuce_iceberg are the best foods in this criteria.</p>"
   ]
  },
  {
   "cell_type": "code",
   "execution_count": 16,
   "metadata": {
    "collapsed": false
   },
   "outputs": [
    {
     "data": {
      "image/png": "[encoded data removed]",
      "text/plain": [
       "<matplotlib.figure.Figure at 0x9cb4dd8>"
      ]
     },
     "metadata": {},
     "output_type": "display_data"
    }
   ],
   "source": [
    "plt.hist(fresh['index'], bins = 10, alpha=0.4, label = 'index')\n",
    "plt.title('Histogram of index')\n",
    "plt.legend(loc = 2)\n",
    "plt.show()"
   ]
  },
  {
   "cell_type": "markdown",
   "metadata": {},
   "source": [
    "<p>We can find that this index for most of the foods are between 0.5 and 0.8.</p>"
   ]
  }
 ],
 "metadata": {
  "anaconda-cloud": {},
  "kernelspec": {
   "display_name": "Python 2",
   "language": "python",
   "name": "python2"
  },
  "language_info": {
   "codemirror_mode": {
    "name": "ipython",
    "version": 2
   },
   "file_extension": ".py",
   "mimetype": "text/x-python",
   "name": "python",
   "nbconvert_exporter": "python",
   "pygments_lexer": "ipython2",
   "version": "2.7.13"
  }
 },
 "nbformat": 4,
 "nbformat_minor": 2
}
