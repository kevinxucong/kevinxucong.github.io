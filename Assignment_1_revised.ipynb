{
 "cells": [
  {
   "cell_type": "markdown",
   "metadata": {},
   "source": [
    "## Part 1: The Doomsday Algorithm\n",
    "\n",
    "The Doomsday algorithm, devised by mathematician J. H. Conway, computes the day of the week any given date fell on. The algorithm is designed to be simple enough to memorize and use for mental calculation.\n",
    "\n",
    "__Example.__ With the algorithm, we can compute that July 4, 1776 (the day the United States declared independence from Great Britain) was a Thursday.\n",
    "\n",
    "The algorithm is based on the fact that for any year, several dates always fall on the same day of the week, called the <em style=\"color:#F00\">doomsday</em> for the year. These dates include 4/4, 6/6, 8/8, 10/10, and 12/12.\n",
    "\n",
    "__Example.__ The doomsday for 2016 is Monday, so in 2016 the dates above all fell on Mondays. The doomsday for 2017 is Tuesday, so in 2017 the dates above will all fall on Tuesdays.\n",
    "\n",
    "The doomsday algorithm has three major steps:\n",
    "\n",
    "1. Compute the anchor day for the target century.\n",
    "2. Compute the doomsday for the target year based on the anchor day.\n",
    "3. Determine the day of week for the target date by counting the number of days to the nearest doomsday.\n",
    "\n",
    "Each step is explained in detail below."
   ]
  },
  {
   "cell_type": "markdown",
   "metadata": {},
   "source": [
    "### The Anchor Day\n",
    "\n",
    "The doomsday for the first year in a century is called the <em style=\"color:#F00\">anchor day</em> for that century. The anchor day is needed to compute the doomsday for any other year in that century. The anchor day for a century $c$ can be computed with the formula:\n",
    "$$\n",
    "a = \\bigl( 5 (c \\bmod 4) + 2 \\bigr) \\bmod 7\n",
    "$$\n",
    "The result $a$ corresponds to a day of the week, starting with $0$ for Sunday and ending with $6$ for Saturday.\n",
    "\n",
    "__Note.__ The modulo operation $(x \\bmod y)$ finds the remainder after dividing $x$ by $y$. For instance, $12 \\bmod 3 = 0$ since the remainder after dividing $12$ by $3$ is $0$. Similarly, $11 \\bmod 7 = 4$, since the remainder after dividing $11$ by $7$ is $4$.\n",
    "\n",
    "__Example.__ Suppose the target year is 1954, so the century is $c = 19$. Plugging this into the formula gives\n",
    "$$a = \\bigl( 5 (19 \\bmod 4) + 2 \\bigr) \\bmod 7 = \\bigl( 5(3) + 2 \\bigr) \\bmod 7 = 3.$$\n",
    "In other words, the anchor day for 1900-1999 is Wednesday, which is also the doomsday for 1900.\n",
    "\n",
    "__Exercise 1.1.__ Write a function that accepts a year as input and computes the anchor day for that year's century. The modulo operator `%` and functions in the `math` module may be useful. Document your function with a docstring and test your function for a few different years.  Do this in a new cell below this one."
   ]
  },
  {
   "cell_type": "code",
   "execution_count": 1,
   "metadata": {
    "collapsed": false
   },
   "outputs": [
    {
     "name": "stdout",
     "output_type": "stream",
     "text": [
      "Wednesday\n",
      "Sunday\n",
      "Tuesday\n"
     ]
    }
   ],
   "source": [
    "import math\n",
    "def anchor(year):\n",
    "    c = year//100\n",
    "    a = (5*(c%4)+2)%7\n",
    "    return a\n",
    "\n",
    "weekday = {0:'Sunday',1:'Monday',2:'Tuesday',3:'Wednesday',4:'Thursday',5:'Friday',6:'Saturday'}\n",
    "year = [1954,1776,2016]\n",
    "\n",
    "for i in range(len(year)):\n",
    "    print weekday[anchor(year[i])]"
   ]
  },
  {
   "cell_type": "markdown",
   "metadata": {},
   "source": [
    "### The Doomsday\n",
    "\n",
    "Once the anchor day is known, let $y$ be the last two digits of the target year. Then the doomsday for the target year can be computed with the formula:\n",
    "$$d = \\left(y + \\left\\lfloor\\frac{y}{4}\\right\\rfloor + a\\right) \\bmod 7$$\n",
    "The result $d$ corresponds to a day of the week.\n",
    "\n",
    "__Note.__ The floor operation $\\lfloor x \\rfloor$ rounds $x$ down to the nearest integer. For instance, $\\lfloor 3.1 \\rfloor = 3$ and $\\lfloor 3.8 \\rfloor = 3$.\n",
    "\n",
    "__Example.__ Again suppose the target year is 1954. Then the anchor day is $a = 3$, and $y = 54$, so the formula gives\n",
    "$$\n",
    "d = \\left(54 + \\left\\lfloor\\frac{54}{4}\\right\\rfloor + 3\\right) \\bmod 7 = (54 + 13 + 3) \\bmod 7 = 0.\n",
    "$$\n",
    "Thus the doomsday for 1954 is Sunday.\n",
    "\n",
    "__Exercise 1.2.__ Write a function that accepts a year as input and computes the doomsday for that year. Your function may need to call the function you wrote in exercise 1.1. Make sure to document and test your function."
   ]
  },
  {
   "cell_type": "code",
   "execution_count": 2,
   "metadata": {
    "collapsed": false
   },
   "outputs": [
    {
     "name": "stdout",
     "output_type": "stream",
     "text": [
      "Sunday\n",
      "Thursday\n",
      "Monday\n"
     ]
    }
   ],
   "source": [
    "def doomsday(year):\n",
    "    a = anchor(year)\n",
    "    y = year%100\n",
    "    d = (y + int(y/4) + a)%7\n",
    "    return d\n",
    "\n",
    "for i in year:\n",
    "    print weekday[doomsday(i)]"
   ]
  },
  {
   "cell_type": "markdown",
   "metadata": {},
   "source": [
    "### The Day of Week\n",
    "\n",
    "The final step in the Doomsday algorithm is to count the number of days between the target date and a nearby doomsday, modulo 7. This gives the day of the week.\n",
    "\n",
    "Every month has at least one doomsday:\n",
    "* (regular years) 1/10, 2/28\n",
    "* (leap years) 1/11, 2/29\n",
    "* 3/21, 4/4, 5/9, 6/6, 7/11, 8/8, 9/5, 10/10, 11/7, 12/12\n",
    "\n",
    "__Example.__ Suppose we want to find the day of the week for 7/21/1954. The doomsday for 1954 is Sunday, and a nearby doomsday is 7/11. There are 10 days in July between 7/11 and 7/21. Since $10 \\bmod 7 = 3$, the date 7/21/1954 falls 3 days after a Sunday, on a Wednesday.\n",
    "\n",
    "__Exercise 1.3.__ Write a function to determine the day of the week for a given day, month, and year. Be careful of leap years! Your function should return a string such as \"Thursday\" rather than a number. As usual, document and test your code."
   ]
  },
  {
   "cell_type": "code",
   "execution_count": 3,
   "metadata": {
    "collapsed": false
   },
   "outputs": [
    {
     "name": "stdout",
     "output_type": "stream",
     "text": [
      "Wednesday\n"
     ]
    }
   ],
   "source": [
    "def leap_year(year):\n",
    "    leap = True\n",
    "    if year%4 != 0:\n",
    "        leap = False\n",
    "    elif year%100 != 0:\n",
    "        leap = True\n",
    "    elif year%400 != 0:\n",
    "        leap = False\n",
    "    return leap\n",
    "\n",
    "def day_of_week(date):\n",
    "    date = str(date)\n",
    "    month,day,year = [int(i) for i in date.split('/')]\n",
    "    leap_dooms = {1:11,2:29}\n",
    "    regular_dooms = {1:10,2:28}\n",
    "    dooms = {3:21,4:4,5:9,6:6,7:11,8:8,9:5,10:10,11:7,12:12}\n",
    "    if month in [1,2]:\n",
    "        if leap_year(year):\n",
    "            key_day = leap_dooms[month]\n",
    "        else:\n",
    "            key_day = regular_dooms[month]\n",
    "    else:\n",
    "        key_day = dooms[month]\n",
    "    between = day-key_day\n",
    "    return (doomsday(year)+between)%7\n",
    "\n",
    "print weekday[day_of_week('7/21/1954')]"
   ]
  },
  {
   "cell_type": "markdown",
   "metadata": {},
   "source": [
    "<em style=\"color:#F00\">\n",
    "-2: function does not return string\n",
    "</em>"
   ]
  },
  {
   "cell_type": "markdown",
   "metadata": {},
   "source": [
    "__Exercise 1.4.__ How many times did Friday the 13th occur in the years 1900-1999? Does this number seem to be similar to other centuries?"
   ]
  },
  {
   "cell_type": "code",
   "execution_count": 5,
   "metadata": {
    "collapsed": false
   },
   "outputs": [
    {
     "name": "stdout",
     "output_type": "stream",
     "text": [
      "172\n",
      "[172, 172, 172, 172, 172, 172, 172, 172, 172, 172, 172, 172, 172, 172, 172, 172, 172, 172, 172]\n"
     ]
    }
   ],
   "source": [
    "def Black_Friday(c,month,y):\n",
    "    if y < 10:\n",
    "        s = str(m)+'/13/'+str(c)+'0'+str(y)\n",
    "    else:\n",
    "        s = str(m)+'/13/'+str(c)+str(y)\n",
    "    return day_of_week(s) == 5\n",
    "\n",
    "total = 0\n",
    "for y in range(100):\n",
    "    for m in range(1,13):\n",
    "        total += Black_Friday(19,m,y)\n",
    "print(total)\n",
    "\n",
    "l = []\n",
    "for i in range(1,20):\n",
    "    total = 0\n",
    "    for y in range(100):\n",
    "        for m in range(1,13):\n",
    "            total += Black_Friday(i,m,y)\n",
    "    l.append(total)\n",
    "print l   \n",
    "#It seems that this number keeps the same in each century."
   ]
  },
  {
   "cell_type": "markdown",
   "metadata": {},
   "source": [
    "__Exercise 1.5.__ How many times did Friday the 13th occur between the year 2000 and today?"
   ]
  },
  {
   "cell_type": "code",
   "execution_count": 6,
   "metadata": {
    "collapsed": false
   },
   "outputs": [
    {
     "name": "stdout",
     "output_type": "stream",
     "text": [
      "30\n"
     ]
    }
   ],
   "source": [
    "import datetime\n",
    "today = datetime.datetime.today()\n",
    "\n",
    "total = 0\n",
    "for c in range(20,(today.year//100)+1):\n",
    "    for y in range(today.year%100):\n",
    "        for m in range(1,13):\n",
    "            total += Black_Friday(c,m,y)\n",
    "\n",
    "last_month = today.month\n",
    "if today.day<13:\n",
    "    last_month = today.month-1\n",
    "for m in range(1,last_month+1):\n",
    "    total += Black_Friday((today.year//100),m,today.year%100)\n",
    "    \n",
    "print total"
   ]
  },
  {
   "cell_type": "markdown",
   "metadata": {},
   "source": [
    "## Part 2: 1978 Birthdays\n",
    "\n",
    "__Exercise 2.1.__ The file `birthdays.txt` contains the number of births in the United States for each day in 1978. Inspect the file to determine the format. Note that columns are separated by the tab character, which can be entered in Python as `\\t`. Write a function that uses iterators and list comprehensions with the string methods `split()` and `strip()` to  convert each line of data to the list format\n",
    "\n",
    "```Python\n",
    "[month, day, year, count]\n",
    "```\n",
    "The elements of this list should be integers, not strings. The function `read_birthdays` provided below will help you load the file."
   ]
  },
  {
   "cell_type": "code",
   "execution_count": 7,
   "metadata": {
    "collapsed": true
   },
   "outputs": [],
   "source": [
    "def read_birthdays(file_path):\n",
    "    \"\"\"Read the contents of the birthdays file into a string.\n",
    "    \n",
    "    Arguments:\n",
    "        file_path (string): The path to the birthdays file.\n",
    "        \n",
    "    Returns:\n",
    "        string: The contents of the birthdays file.\n",
    "    \"\"\"\n",
    "    with open(file_path) as file:\n",
    "        return file.read()"
   ]
  },
  {
   "cell_type": "code",
   "execution_count": 8,
   "metadata": {
    "collapsed": false
   },
   "outputs": [],
   "source": [
    "rawdata = read_birthdays(\"C:\\Users\\kevin\\study\\STA141B\\\\assignment_1\\\\birthdays.txt\")\n",
    "l = rawdata.strip().split('\\n')\n",
    "\n",
    "data = []\n",
    "import re\n",
    "for element in l:\n",
    "    if re.search(r'\\d+/\\d+/\\d+\\t\\d+',element):\n",
    "        s = element\n",
    "        s = s.replace('\\t','/')\n",
    "        data.append([int(i) for i in s.split('/')])"
   ]
  },
  {
   "cell_type": "markdown",
   "metadata": {},
   "source": [
    "__Exercise 2.2.__ Which month had the most births in 1978? Which day of the week had the most births? Which day of the week had the fewest? What conclusions can you draw? You may find the `Counter` class in the `collections` module useful."
   ]
  },
  {
   "cell_type": "code",
   "execution_count": 8,
   "metadata": {
    "collapsed": false
   },
   "outputs": [
    {
     "name": "stdout",
     "output_type": "stream",
     "text": [
      "Most births month: August\n",
      "Most births day of the week: Tuesday\n",
      "Fewest births day of the week: Sunday\n"
     ]
    }
   ],
   "source": [
    "#(1)\n",
    "from collections import Counter\n",
    "data_month = Counter()\n",
    "for i in range(len(data)):\n",
    "    data_month[data[i][0]] += data[i][3]\n",
    "a1 = data_month.most_common(1) #August\n",
    "\n",
    "#(2)\n",
    "data_week = Counter()\n",
    "for i in range(len(data)):\n",
    "    s_date = str(data[i][0])+'/'+str(data[i][1])+'/1978'\n",
    "    s_weekday = day_of_week(s_date)\n",
    "    data_week[s_weekday] += data[i][3]\n",
    "a2 = data_week.most_common(1) #Tuesday\n",
    "a3 = data_week.most_common()[-1] #Sunday\n",
    "\n",
    "month = {1:'January',2:'February',3:'March',4:'April',5:'May',6:'June',7:'July',8:'August',9:'September',10:'October',11:'November',12:'December'}\n",
    "print('Most births month: '+month[a1[0][0]])\n",
    "print('Most births day of the week: '+weekday[a2[0][0]])\n",
    "print('Fewest births day of the week: '+weekday[a3[0]])"
   ]
  },
  {
   "cell_type": "markdown",
   "metadata": {},
   "source": [
    "<em style=\"color:#F00\">\n",
    "-2: no conclusion\n",
    "</em>"
   ]
  },
  {
   "cell_type": "markdown",
   "metadata": {},
   "source": [
    "__Exercise 2.3.__ What would be an effective way to present the information in exercise 2.2? You don't need to write any code for this exercise, just discuss what you would do."
   ]
  },
  {
   "cell_type": "markdown",
   "metadata": {},
   "source": [
    "<p>I think we an use scatter plots to present the total number of births in each month or day of the week.</p>"
   ]
  },
  {
   "cell_type": "code",
   "execution_count": 9,
   "metadata": {
    "collapsed": false
   },
   "outputs": [
    {
     "data": {
      "image/png": "[encoded data removed]",
      "text/plain": [
       "<matplotlib.figure.Figure at 0x797c128>"
      ]
     },
     "metadata": {},
     "output_type": "display_data"
    }
   ],
   "source": [
    "from matplotlib import pyplot as plt\n",
    "list_month = [0]*12\n",
    "for i in range(1,13):\n",
    "    list_month[i-1] = data_month[i]\n",
    "x1 = [i for i in range(1,13)]\n",
    "plt.plot(x1,list_month)\n",
    "plt.show()"
   ]
  },
  {
   "cell_type": "code",
   "execution_count": 10,
   "metadata": {
    "collapsed": false
   },
   "outputs": [
    {
     "data": {
      "image/png": "[encoded data removed]",
      "text/plain": [
       "<matplotlib.figure.Figure at 0x7657eb8>"
      ]
     },
     "metadata": {},
     "output_type": "display_data"
    }
   ],
   "source": [
    "list_week = [0]*7\n",
    "for i in range(7):\n",
    "    list_week[i] = data_week[i]\n",
    "x2 = [i for i in range(7)]\n",
    "plt.plot(x2,list_week)\n",
    "plt.show()"
   ]
  }
 ],
 "metadata": {
  "anaconda-cloud": {},
  "kernelspec": {
   "display_name": "Python [default]",
   "language": "python",
   "name": "python2"
  },
  "language_info": {
   "codemirror_mode": {
    "name": "ipython",
    "version": 2
   },
   "file_extension": ".py",
   "mimetype": "text/x-python",
   "name": "python",
   "nbconvert_exporter": "python",
   "pygments_lexer": "ipython2",
   "version": "2.7.12"
  }
 },
 "nbformat": 4,
 "nbformat_minor": 2
}
